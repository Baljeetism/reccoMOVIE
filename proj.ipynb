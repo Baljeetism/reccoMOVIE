{
 "cells": [
  {
   "cell_type": "code",
   "execution_count": 274,
   "id": "60a48256-6854-41f6-b4b7-d67559ee4b6a",
   "metadata": {},
   "outputs": [],
   "source": [
    "import numpy as np\n",
    "import pandas as pd\n",
    "import ast"
   ]
  },
  {
   "cell_type": "code",
   "execution_count": 275,
   "id": "d4a75378-dbcc-44dc-8ea3-ddd3f6df40f6",
   "metadata": {},
   "outputs": [],
   "source": [
    "movie=pd.read_csv('tmdb_5000_movies.csv')\n",
    "credit=pd.read_csv('tmdb_5000_credits.csv')"
   ]
  },
  {
   "cell_type": "code",
   "execution_count": 276,
   "id": "bafd017c-55bf-403c-aa5f-a97acc13e6b1",
   "metadata": {},
   "outputs": [],
   "source": [
    "movie=pd.merge(movie,credit,on='title')"
   ]
  },
  {
   "cell_type": "code",
   "execution_count": 277,
   "id": "8bddbc27-3376-4b3b-ac95-703a127d330f",
   "metadata": {},
   "outputs": [],
   "source": [
    "movie=movie[['id','title','genres','cast','crew','overview','keywords']]"
   ]
  },
  {
   "cell_type": "code",
   "execution_count": 278,
   "id": "c3f1294f-bc3f-48a3-8da7-d4d3dabca9ea",
   "metadata": {},
   "outputs": [],
   "source": [
    "movie['overview'] = movie['overview'].apply(lambda x: x.split() if isinstance(x, str) else x)\n"
   ]
  },
  {
   "cell_type": "code",
   "execution_count": 279,
   "id": "e3d2a583-92b7-4c99-9fc3-d0eddf5a138c",
   "metadata": {},
   "outputs": [],
   "source": [
    "def convert(obj):\n",
    "    li=[]\n",
    "    for i in ast.literal_eval(obj):\n",
    "        li.append(i['name'])\n",
    "    return li"
   ]
  },
  {
   "cell_type": "code",
   "execution_count": 280,
   "id": "c49ca2ed-635a-4969-bb3f-8c5f0172ed35",
   "metadata": {},
   "outputs": [],
   "source": [
    "\n",
    "movie['genres']=movie['genres'].apply(convert)"
   ]
  },
  {
   "cell_type": "code",
   "execution_count": 281,
   "id": "8be26a5c-3e07-4cd8-a4d8-bcd4b9c8cd23",
   "metadata": {},
   "outputs": [],
   "source": [
    "movie['keywords']=movie['keywords'].apply(convert)"
   ]
  },
  {
   "cell_type": "code",
   "execution_count": 282,
   "id": "8d914329-1876-40b8-960d-1e62dd53dc24",
   "metadata": {},
   "outputs": [],
   "source": [
    "def convert2(obj):\n",
    "    li=[]\n",
    "    count=0;\n",
    "    \n",
    "    for i in ast.literal_eval(obj):\n",
    "        if count<=3:\n",
    "            li.append(i['name'])\n",
    "            count+=1\n",
    "        else:\n",
    "            break\n",
    "    return li"
   ]
  },
  {
   "cell_type": "code",
   "execution_count": 283,
   "id": "2e2d17b8-01c5-4273-aee4-8b58f1348187",
   "metadata": {},
   "outputs": [],
   "source": [
    "movie['cast']=movie['cast'].apply(convert2)"
   ]
  },
  {
   "cell_type": "code",
   "execution_count": 284,
   "id": "6944ecfb-b6f2-4fc9-8544-c000cde7a99c",
   "metadata": {},
   "outputs": [],
   "source": [
    "def convert3(obj):\n",
    "    li = []\n",
    "    data = ast.literal_eval(obj)\n",
    "    for i in data:\n",
    "        if i['job'] == 'Director':\n",
    "            li.append(i['name'])\n",
    "            break\n",
    "        \n",
    "    return li"
   ]
  },
  {
   "cell_type": "code",
   "execution_count": 285,
   "id": "c29831fb-8c56-4b0d-b2b1-48eec87b6e79",
   "metadata": {},
   "outputs": [],
   "source": [
    "movie['crew']=movie['crew'].apply(convert3)"
   ]
  },
  {
   "cell_type": "code",
   "execution_count": 286,
   "id": "5257cdf1-e7d3-4d2f-9100-a9754ea8945d",
   "metadata": {},
   "outputs": [],
   "source": [
    "movie['cast']=movie['cast'].apply(lambda x:[i.replace(\" \",\"\") for i in x])\n",
    "movie['crew']=movie['crew'].apply(lambda x:[i.replace(\" \",\"\") for i in x])\n",
    "movie['genres']=movie['genres'].apply(lambda x:[i.replace(\" \",\"\") for i in x])\n",
    "movie['keywords']=movie['keywords'].apply(lambda x:[i.replace(\" \",\"\") for i in x])"
   ]
  },
  {
   "cell_type": "code",
   "execution_count": 287,
   "id": "4ec84aee-35dd-4ac7-a18b-9b0b17e00523",
   "metadata": {},
   "outputs": [],
   "source": [
    "movie['tags']=movie['genres']+movie['cast']+movie['crew']+movie['overview']+movie['keywords']\n",
    "movie=movie[['id','title','tags']]"
   ]
  },
  {
   "cell_type": "code",
   "execution_count": 288,
   "id": "078652e7-7ed3-4fb3-b8e8-0cc7e83117a2",
   "metadata": {},
   "outputs": [],
   "source": [
    "movie['tags'] = movie['tags'].apply(lambda x: \" \".join(x) if isinstance(x, list) else x)\n",
    "movie['tags'] = movie['tags'].apply(lambda x: x.lower() if isinstance(x, str) else x)"
   ]
  },
  {
   "cell_type": "code",
   "execution_count": 289,
   "id": "a50333c6-f814-4ed1-97bf-b04d120e040b",
   "metadata": {},
   "outputs": [],
   "source": [
    "movie.dropna(inplace=True)"
   ]
  },
  {
   "cell_type": "code",
   "execution_count": 290,
   "id": "cdf7df3e-d913-49be-98b8-f95e83c1740f",
   "metadata": {},
   "outputs": [],
   "source": [
    "from sklearn.feature_extraction.text import CountVectorizer\n",
    "cv=CountVectorizer(max_features=5000,stop_words='english')"
   ]
  },
  {
   "cell_type": "code",
   "execution_count": 291,
   "id": "3e62b623-68ee-4301-b0b5-d3ac37fffaae",
   "metadata": {},
   "outputs": [],
   "source": [
    "vectors=cv.fit_transform(movie['tags']).toarray()"
   ]
  },
  {
   "cell_type": "code",
   "execution_count": 292,
   "id": "74a9e495-780d-4a29-961f-9476ae638dca",
   "metadata": {},
   "outputs": [],
   "source": [
    "import nltk\n",
    "from nltk.stem.porter import PorterStemmer\n",
    "ps=PorterStemmer()"
   ]
  },
  {
   "cell_type": "code",
   "execution_count": 293,
   "id": "7117181c-293a-4f8f-862c-6f92e77c5e6a",
   "metadata": {},
   "outputs": [],
   "source": [
    "def origin(txt):\n",
    "    li=[]\n",
    "    txt=txt.split()\n",
    "    for i in txt:\n",
    "        li.append(ps.stem(i))\n",
    "    return \" \".join(li)"
   ]
  },
  {
   "cell_type": "code",
   "execution_count": 294,
   "id": "4058350a-e0f9-43ba-9e02-731c6de1f496",
   "metadata": {},
   "outputs": [],
   "source": [
    "movie['tags']=movie['tags'].apply(origin)"
   ]
  },
  {
   "cell_type": "code",
   "execution_count": 295,
   "id": "af0c9ab7-8fb6-4c83-ad66-7ee534626e63",
   "metadata": {},
   "outputs": [],
   "source": [
    "from sklearn.metrics.pairwise import cosine_similarity\n",
    "simlarity=cosine_similarity(vectors)"
   ]
  },
  {
   "cell_type": "code",
   "execution_count": 301,
   "id": "52111e35-8e55-456e-90e3-54d5d6b7ddbf",
   "metadata": {},
   "outputs": [],
   "source": [
    "def recom(mov):\n",
    "    mov_ind=movie[movie['title']==mov].index[0]\n",
    "    distance=simlarity[mov_ind]\n",
    "    li=sorted(list(enumerate(distance)),reverse=True,key=lambda x:x[1])[1:6]\n",
    "    for i in li:\n",
    "        print(movie.iloc[i[0]].title)"
   ]
  },
  {
   "cell_type": "code",
   "execution_count": 312,
   "id": "ed558f90-a168-434c-91a7-62887ac94225",
   "metadata": {},
   "outputs": [
    {
     "data": {
      "text/plain": [
       "0"
      ]
     },
     "execution_count": 312,
     "metadata": {},
     "output_type": "execute_result"
    }
   ],
   "source": [
    "movie[movie['title']=='Avatar'].index[0]"
   ]
  },
  {
   "cell_type": "code",
   "execution_count": 302,
   "id": "25156b1a-d7af-44e6-86d8-58a752234c46",
   "metadata": {},
   "outputs": [
    {
     "name": "stdout",
     "output_type": "stream",
     "text": [
      "The Dark Knight\n",
      "The Dark Knight Rises\n",
      "Batman\n",
      "Batman & Robin\n",
      "Batman\n"
     ]
    }
   ],
   "source": [
    "recom('Batman ')"
   ]
  },
  {
   "cell_type": "code",
   "execution_count": 303,
   "id": "169fb324-bb8c-4164-873a-1a139ce0633a",
   "metadata": {},
   "outputs": [
    {
     "name": "stdout",
     "output_type": "stream",
     "text": [
      "The Dark Knight\n",
      "The Dark Knight Rises\n",
      "Batman\n",
      "Batman & Robin\n",
      "Batman\n"
     ]
    }
   ],
   "source": [
    "recom('Batman Begins')"
   ]
  },
  {
   "cell_type": "code",
   "execution_count": 304,
   "id": "fa964178-34ee-4542-a64b-61b5f367c0f4",
   "metadata": {},
   "outputs": [
    {
     "name": "stdout",
     "output_type": "stream",
     "text": [
      "Titan A.E.\n",
      "Independence Day\n",
      "Small Soldiers\n",
      "Aliens vs Predator: Requiem\n",
      "Ender's Game\n"
     ]
    }
   ],
   "source": [
    "recom('Avatar')"
   ]
  },
  {
   "cell_type": "code",
   "execution_count": 305,
   "id": "f9eddbb1-b6a3-4662-b700-ffacdc4ef95c",
   "metadata": {},
   "outputs": [
    {
     "name": "stdout",
     "output_type": "stream",
     "text": [
      "Quantum of Solace\n",
      "Never Say Never Again\n",
      "Skyfall\n",
      "From Russia with Love\n",
      "Thunderball\n"
     ]
    }
   ],
   "source": [
    "recom('Spectre')"
   ]
  },
  {
   "cell_type": "code",
   "execution_count": null,
   "id": "ac260c40-3d01-4df6-8e77-15b2d8db2e58",
   "metadata": {},
   "outputs": [],
   "source": []
  }
 ],
 "metadata": {
  "kernelspec": {
   "display_name": "Python 3 (ipykernel)",
   "language": "python",
   "name": "python3"
  },
  "language_info": {
   "codemirror_mode": {
    "name": "ipython",
    "version": 3
   },
   "file_extension": ".py",
   "mimetype": "text/x-python",
   "name": "python",
   "nbconvert_exporter": "python",
   "pygments_lexer": "ipython3",
   "version": "3.10.12"
  }
 },
 "nbformat": 4,
 "nbformat_minor": 5
}
